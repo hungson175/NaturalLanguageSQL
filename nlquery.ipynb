{
 "cells": [
  {
   "cell_type": "code",
   "id": "initial_id",
   "metadata": {
    "collapsed": true,
    "ExecuteTime": {
     "end_time": "2024-08-08T11:38:33.910643Z",
     "start_time": "2024-08-08T11:38:33.905249Z"
    }
   },
   "source": [
    "from sqlalchemy import create_engine\n",
    "engine = create_engine('duckdb:///datacamp.duckdb')\n",
    "with engine.connect() as connection:\n",
    "    cursor = connection.exec_driver_sql(\"SELECT * FROM bank LIMIT 3\")\n",
    "    print(cursor.fetchall())"
   ],
   "outputs": [
    {
     "name": "stdout",
     "output_type": "stream",
     "text": [
      "[(56, 'housemaid', 'married', 'basic.4y', 'no', 'no', 'no', 'telephone', 'may', 'mon', 261, 1, 999, 0, 'nonexistent', 1.1, 93.994, -36.4, 4.857, 5191.0, 'no'), (57, 'services', 'married', 'high.school', 'unknown', 'no', 'no', 'telephone', 'may', 'mon', 149, 1, 999, 0, 'nonexistent', 1.1, 93.994, -36.4, 4.857, 5191.0, 'no'), (37, 'services', 'married', 'high.school', 'no', 'yes', 'no', 'telephone', 'may', 'mon', 226, 1, 999, 0, 'nonexistent', 1.1, 93.994, -36.4, 4.857, 5191.0, 'no')]\n"
     ]
    }
   ],
   "execution_count": 2
  },
  {
   "metadata": {
    "ExecuteTime": {
     "end_time": "2024-08-08T11:39:28.973875Z",
     "start_time": "2024-08-08T11:39:28.069653Z"
    }
   },
   "cell_type": "code",
   "source": [
    "from llama_index.core import SQLDatabase\n",
    "\n",
    "sql_database = SQLDatabase(engine, include_tables=[\"bank\"])"
   ],
   "id": "30acfd007e28a7cd",
   "outputs": [
    {
     "name": "stderr",
     "output_type": "stream",
     "text": [
      "/Users/sonph36/dev/NatureLanguageSQL/.venv/lib/python3.12/site-packages/duckdb_engine/__init__.py:174: DuckDBEngineWarning: duckdb-engine doesn't yet support reflection on indices\n",
      "  warnings.warn(\n"
     ]
    }
   ],
   "execution_count": 3
  },
  {
   "metadata": {
    "ExecuteTime": {
     "end_time": "2024-08-08T11:44:13.992672Z",
     "start_time": "2024-08-08T11:44:13.988068Z"
    }
   },
   "cell_type": "code",
   "source": [
    "from llama_index.llms.openai import OpenAI\n",
    "from llama_index.core.indices.struct_store import NLSQLTableQueryEngine\n",
    "import os\n",
    "import dotenv\n",
    "dotenv.load_dotenv()\n",
    "\n",
    "llm = OpenAI(model=\"gpt-4o-mini\")\n",
    "query_engine = NLSQLTableQueryEngine(sql_database)"
   ],
   "id": "fdd5bb3948f4be2e",
   "outputs": [],
   "execution_count": 11
  },
  {
   "metadata": {
    "ExecuteTime": {
     "end_time": "2024-08-08T11:44:16.895663Z",
     "start_time": "2024-08-08T11:44:14.779942Z"
    }
   },
   "cell_type": "code",
   "source": "response = query_engine.query(\"What is the longest running campaign ?\")",
   "id": "831e150f2089c",
   "outputs": [],
   "execution_count": 12
  },
  {
   "metadata": {
    "ExecuteTime": {
     "end_time": "2024-08-08T11:44:17.518029Z",
     "start_time": "2024-08-08T11:44:17.515092Z"
    }
   },
   "cell_type": "code",
   "source": "response",
   "id": "49d82795d608c0de",
   "outputs": [
    {
     "data": {
      "text/plain": [
       "Response(response='The longest running campaign in the bank dataset has a duration of 4918 days.', source_nodes=[NodeWithScore(node=TextNode(id_='1ab6e7a0-319c-4d06-8354-0a17e0f8c21a', embedding=None, metadata={'sql_query': 'SELECT MAX(duration) AS longest_campaign\\nFROM bank;', 'result': [(4918,)], 'col_keys': ['longest_campaign']}, excluded_embed_metadata_keys=['sql_query', 'result', 'col_keys'], excluded_llm_metadata_keys=['sql_query', 'result', 'col_keys'], relationships={}, text='[(4918,)]', mimetype='text/plain', start_char_idx=None, end_char_idx=None, text_template='{metadata_str}\\n\\n{content}', metadata_template='{key}: {value}', metadata_seperator='\\n'), score=None)], metadata={'1ab6e7a0-319c-4d06-8354-0a17e0f8c21a': {'sql_query': 'SELECT MAX(duration) AS longest_campaign\\nFROM bank;', 'result': [(4918,)], 'col_keys': ['longest_campaign']}, 'sql_query': 'SELECT MAX(duration) AS longest_campaign\\nFROM bank;', 'result': [(4918,)], 'col_keys': ['longest_campaign']})"
      ]
     },
     "execution_count": 13,
     "metadata": {},
     "output_type": "execute_result"
    }
   ],
   "execution_count": 13
  },
  {
   "metadata": {
    "ExecuteTime": {
     "end_time": "2024-08-08T11:44:25.101301Z",
     "start_time": "2024-08-08T11:44:21.294380Z"
    }
   },
   "cell_type": "code",
   "source": [
    "response = query_engine.query(\"Which type of job has the most housing loan ?\")\n",
    "response"
   ],
   "id": "5f38d83784435675",
   "outputs": [
    {
     "data": {
      "text/plain": [
       "Response(response=\"The type of job with the most housing loans is 'admin.' with 5559 housing loans. This is followed by 'blue-collar' with 4710 housing loans and 'technician' with 3616 housing loans. Other job types with significant housing loans include 'services', 'management', 'retired', 'entrepreneur', and 'self-employed'.\", source_nodes=[NodeWithScore(node=TextNode(id_='d3cd1b3e-ec93-475a-8aa9-0f07c40ed0ea', embedding=None, metadata={'sql_query': \"SELECT job, COUNT(housing) AS housing_loan_count\\nFROM bank\\nWHERE housing = 'yes'\\nGROUP BY job\\nORDER BY housing_loan_count DESC;\", 'result': [('admin.', 5559), ('blue-collar', 4710), ('technician', 3616), ('services', 2050), ('management', 1490), ('retired', 892), ('entrepreneur', 779), ('self-employed', 740), ('unemployed', 557), ('housemaid', 540), ('student', 471), ('unknown', 172)], 'col_keys': ['job', 'housing_loan_count']}, excluded_embed_metadata_keys=['sql_query', 'result', 'col_keys'], excluded_llm_metadata_keys=['sql_query', 'result', 'col_keys'], relationships={}, text=\"[('admin.', 5559), ('blue-collar', 4710), ('technician', 3616), ('services', 2050), ('management', 1490), ('retired', 892), ('entrepreneur', 779), ('self-employed', 740), ('unemployed', 557), ('housemaid', 540), ('student', 471), ('unknown', 172)]\", mimetype='text/plain', start_char_idx=None, end_char_idx=None, text_template='{metadata_str}\\n\\n{content}', metadata_template='{key}: {value}', metadata_seperator='\\n'), score=None)], metadata={'d3cd1b3e-ec93-475a-8aa9-0f07c40ed0ea': {'sql_query': \"SELECT job, COUNT(housing) AS housing_loan_count\\nFROM bank\\nWHERE housing = 'yes'\\nGROUP BY job\\nORDER BY housing_loan_count DESC;\", 'result': [('admin.', 5559), ('blue-collar', 4710), ('technician', 3616), ('services', 2050), ('management', 1490), ('retired', 892), ('entrepreneur', 779), ('self-employed', 740), ('unemployed', 557), ('housemaid', 540), ('student', 471), ('unknown', 172)], 'col_keys': ['job', 'housing_loan_count']}, 'sql_query': \"SELECT job, COUNT(housing) AS housing_loan_count\\nFROM bank\\nWHERE housing = 'yes'\\nGROUP BY job\\nORDER BY housing_loan_count DESC;\", 'result': [('admin.', 5559), ('blue-collar', 4710), ('technician', 3616), ('services', 2050), ('management', 1490), ('retired', 892), ('entrepreneur', 779), ('self-employed', 740), ('unemployed', 557), ('housemaid', 540), ('student', 471), ('unknown', 172)], 'col_keys': ['job', 'housing_loan_count']})"
      ]
     },
     "execution_count": 14,
     "metadata": {},
     "output_type": "execute_result"
    }
   ],
   "execution_count": 14
  },
  {
   "metadata": {
    "ExecuteTime": {
     "end_time": "2024-08-08T11:44:41.776432Z",
     "start_time": "2024-08-08T11:44:41.773905Z"
    }
   },
   "cell_type": "code",
   "source": "response.metadata",
   "id": "e7f809f8e859ee81",
   "outputs": [
    {
     "data": {
      "text/plain": [
       "{'d3cd1b3e-ec93-475a-8aa9-0f07c40ed0ea': {'sql_query': \"SELECT job, COUNT(housing) AS housing_loan_count\\nFROM bank\\nWHERE housing = 'yes'\\nGROUP BY job\\nORDER BY housing_loan_count DESC;\",\n",
       "  'result': [('admin.', 5559),\n",
       "   ('blue-collar', 4710),\n",
       "   ('technician', 3616),\n",
       "   ('services', 2050),\n",
       "   ('management', 1490),\n",
       "   ('retired', 892),\n",
       "   ('entrepreneur', 779),\n",
       "   ('self-employed', 740),\n",
       "   ('unemployed', 557),\n",
       "   ('housemaid', 540),\n",
       "   ('student', 471),\n",
       "   ('unknown', 172)],\n",
       "  'col_keys': ['job', 'housing_loan_count']},\n",
       " 'sql_query': \"SELECT job, COUNT(housing) AS housing_loan_count\\nFROM bank\\nWHERE housing = 'yes'\\nGROUP BY job\\nORDER BY housing_loan_count DESC;\",\n",
       " 'result': [('admin.', 5559),\n",
       "  ('blue-collar', 4710),\n",
       "  ('technician', 3616),\n",
       "  ('services', 2050),\n",
       "  ('management', 1490),\n",
       "  ('retired', 892),\n",
       "  ('entrepreneur', 779),\n",
       "  ('self-employed', 740),\n",
       "  ('unemployed', 557),\n",
       "  ('housemaid', 540),\n",
       "  ('student', 471),\n",
       "  ('unknown', 172)],\n",
       " 'col_keys': ['job', 'housing_loan_count']}"
      ]
     },
     "execution_count": 15,
     "metadata": {},
     "output_type": "execute_result"
    }
   ],
   "execution_count": 15
  },
  {
   "metadata": {},
   "cell_type": "code",
   "outputs": [],
   "execution_count": null,
   "source": "",
   "id": "2c54b90e8cc16f8c"
  }
 ],
 "metadata": {
  "kernelspec": {
   "display_name": "Python 3",
   "language": "python",
   "name": "python3"
  },
  "language_info": {
   "codemirror_mode": {
    "name": "ipython",
    "version": 2
   },
   "file_extension": ".py",
   "mimetype": "text/x-python",
   "name": "python",
   "nbconvert_exporter": "python",
   "pygments_lexer": "ipython2",
   "version": "2.7.6"
  }
 },
 "nbformat": 4,
 "nbformat_minor": 5
}
